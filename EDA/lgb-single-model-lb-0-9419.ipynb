{
 "cells": [
  {
   "cell_type": "code",
   "execution_count": 1,
   "metadata": {},
   "outputs": [],
   "source": [
    "import pandas as pd\n",
    "import numpy as np\n",
    "import multiprocessing\n",
    "import warnings\n",
    "import matplotlib.pyplot as plt\n",
    "import seaborn as sns\n",
    "import lightgbm as lgb\n",
    "import gc\n",
    "from time import time\n",
    "import datetime\n",
    "from tqdm import tqdm_notebook\n",
    "from sklearn.preprocessing import LabelEncoder\n",
    "from sklearn.model_selection import KFold, TimeSeriesSplit\n",
    "from sklearn.metrics import roc_auc_score\n",
    "warnings.simplefilter('ignore')\n",
    "sns.set()\n",
    "%matplotlib inline"
   ]
  },
  {
   "cell_type": "code",
   "execution_count": 2,
   "metadata": {},
   "outputs": [],
   "source": [
    "folder_path = '../data/IEEE-CIS-Fraud-Detection/'"
   ]
  },
  {
   "cell_type": "code",
   "execution_count": 3,
   "metadata": {},
   "outputs": [],
   "source": [
    "files = [f'{folder_path}test_identity.csv', \n",
    "         f'{folder_path}test_transaction.csv',\n",
    "         f'{folder_path}train_identity.csv',\n",
    "         f'{folder_path}train_transaction.csv',\n",
    "         f'{folder_path}sample_submission.csv']"
   ]
  },
  {
   "cell_type": "code",
   "execution_count": 4,
   "metadata": {},
   "outputs": [
    {
     "name": "stdout",
     "output_type": "stream",
     "text": [
      "CPU times: user 1.62 s, sys: 2.48 s, total: 4.1 s\n",
      "Wall time: 18.6 s\n"
     ]
    }
   ],
   "source": [
    "%%time\n",
    "def load_data(file):\n",
    "    return pd.read_csv(file)\n",
    "\n",
    "with multiprocessing.Pool() as pool:\n",
    "    test_id, test_tr, train_id, train_tr, sub = pool.map(load_data, files)"
   ]
  },
  {
   "cell_type": "code",
   "execution_count": 5,
   "metadata": {},
   "outputs": [
    {
     "data": {
      "text/plain": [
       "11"
      ]
     },
     "execution_count": 5,
     "metadata": {},
     "output_type": "execute_result"
    }
   ],
   "source": [
    "train = pd.merge(train_tr, train_id, on='TransactionID', how='left')\n",
    "test = pd.merge(test_tr, test_id, on='TransactionID', how='left')\n",
    "\n",
    "del test_id, test_tr, train_id, train_tr\n",
    "gc.collect()"
   ]
  },
  {
   "cell_type": "code",
   "execution_count": 6,
   "metadata": {},
   "outputs": [],
   "source": [
    "useful_features = ['TransactionAmt', 'ProductCD', 'card1', 'card2', 'card3', 'card4', 'card5', 'card6', 'addr1', 'addr2', 'dist1',\n",
    "                   'P_emaildomain', 'R_emaildomain', 'C1', 'C2', 'C4', 'C5', 'C6', 'C7', 'C8', 'C9', 'C10', 'C11', 'C12', 'C13',\n",
    "                   'C14', 'D1', 'D2', 'D3', 'D4', 'D5', 'D6', 'D8', 'D9', 'D10', 'D11', 'D12', 'D13', 'D14', 'D15', 'M2', 'M3',\n",
    "                   'M4', 'M5', 'M6', 'M7', 'M8', 'M9', 'V3', 'V4', 'V5', 'V6', 'V7', 'V8', 'V9', 'V10', 'V11', 'V12', 'V13', 'V17',\n",
    "                   'V19', 'V20', 'V29', 'V30', 'V33', 'V34', 'V35', 'V36', 'V37', 'V38', 'V40', 'V44', 'V45', 'V46', 'V47', 'V48',\n",
    "                   'V49', 'V51', 'V52', 'V53', 'V54', 'V56', 'V58', 'V59', 'V60', 'V61', 'V62', 'V63', 'V64', 'V69', 'V70', 'V71',\n",
    "                   'V72', 'V73', 'V74', 'V75', 'V76', 'V78', 'V80', 'V81', 'V82', 'V83', 'V84', 'V85', 'V87', 'V90', 'V91', 'V92',\n",
    "                   'V93', 'V94', 'V95', 'V96', 'V97', 'V99', 'V100', 'V126', 'V127', 'V128', 'V130', 'V131', 'V138', 'V139', 'V140',\n",
    "                   'V143', 'V145', 'V146', 'V147', 'V149', 'V150', 'V151', 'V152', 'V154', 'V156', 'V158', 'V159', 'V160', 'V161',\n",
    "                   'V162', 'V163', 'V164', 'V165', 'V166', 'V167', 'V169', 'V170', 'V171', 'V172', 'V173', 'V175', 'V176', 'V177',\n",
    "                   'V178', 'V180', 'V182', 'V184', 'V187', 'V188', 'V189', 'V195', 'V197', 'V200', 'V201', 'V202', 'V203', 'V204',\n",
    "                   'V205', 'V206', 'V207', 'V208', 'V209', 'V210', 'V212', 'V213', 'V214', 'V215', 'V216', 'V217', 'V219', 'V220',\n",
    "                   'V221', 'V222', 'V223', 'V224', 'V225', 'V226', 'V227', 'V228', 'V229', 'V231', 'V233', 'V234', 'V238', 'V239',\n",
    "                   'V242', 'V243', 'V244', 'V245', 'V246', 'V247', 'V249', 'V251', 'V253', 'V256', 'V257', 'V258', 'V259', 'V261',\n",
    "                   'V262', 'V263', 'V264', 'V265', 'V266', 'V267', 'V268', 'V270', 'V271', 'V272', 'V273', 'V274', 'V275', 'V276',\n",
    "                   'V277', 'V278', 'V279', 'V280', 'V282', 'V283', 'V285', 'V287', 'V288', 'V289', 'V291', 'V292', 'V294', 'V303',\n",
    "                   'V304', 'V306', 'V307', 'V308', 'V310', 'V312', 'V313', 'V314', 'V315', 'V317', 'V322', 'V323', 'V324', 'V326',\n",
    "                   'V329', 'V331', 'V332', 'V333', 'V335', 'V336', 'V338', 'id_01', 'id_02', 'id_03', 'id_05', 'id_06', 'id_09',\n",
    "                   'id_11', 'id_12', 'id_13', 'id_14', 'id_15', 'id_17', 'id_19', 'id_20', 'id_30', 'id_31', 'id_32', 'id_33',\n",
    "                   'id_36', 'id_37', 'id_38', 'DeviceType', 'DeviceInfo']"
   ]
  },
  {
   "cell_type": "code",
   "execution_count": 7,
   "metadata": {},
   "outputs": [],
   "source": [
    "cols_to_drop = [col for col in train.columns if col not in useful_features]\n",
    "cols_to_drop.remove('isFraud')\n",
    "cols_to_drop.remove('TransactionID')\n",
    "cols_to_drop.remove('TransactionDT')"
   ]
  },
  {
   "cell_type": "code",
   "execution_count": 8,
   "metadata": {},
   "outputs": [
    {
     "name": "stdout",
     "output_type": "stream",
     "text": [
      "152 features are going to be dropped for being useless\n"
     ]
    }
   ],
   "source": [
    "print('{} features are going to be dropped for being useless'.format(len(cols_to_drop)))\n",
    "\n",
    "train = train.drop(cols_to_drop, axis=1)\n",
    "test = test.drop(cols_to_drop, axis=1)"
   ]
  },
  {
   "cell_type": "code",
   "execution_count": 9,
   "metadata": {},
   "outputs": [],
   "source": [
    "# New feature - decimal part of the transaction amount\n",
    "train['TransactionAmt_decimal'] = ((train['TransactionAmt'] - train['TransactionAmt'].astype(int)) * 1000).astype(int)\n",
    "test['TransactionAmt_decimal'] = ((test['TransactionAmt'] - test['TransactionAmt'].astype(int)) * 1000).astype(int)\n",
    "\n",
    "# Count encoding for card1 feature. \n",
    "# Explained in this kernel: https://www.kaggle.com/nroman/eda-for-cis-fraud-detection\n",
    "train['card1_count_full'] = train['card1'].map(pd.concat([train['card1'], test['card1']], ignore_index=True).value_counts(dropna=False))\n",
    "test['card1_count_full'] = test['card1'].map(pd.concat([train['card1'], test['card1']], ignore_index=True).value_counts(dropna=False))\n",
    "\n",
    "# https://www.kaggle.com/fchmiel/day-and-time-powerful-predictive-feature\n",
    "train['Transaction_day_of_week'] = np.floor((train['TransactionDT'] / (3600 * 24) - 1) % 7)\n",
    "test['Transaction_day_of_week'] = np.floor((test['TransactionDT'] / (3600 * 24) - 1) % 7)\n",
    "train['Transaction_hour'] = np.floor(train['TransactionDT'] / 3600) % 24\n",
    "test['Transaction_hour'] = np.floor(test['TransactionDT'] / 3600) % 24\n",
    "\n",
    "# Some arbitrary features interaction\n",
    "for feature in ['id_02__id_20', 'id_02__D8', 'D11__DeviceInfo', 'DeviceInfo__P_emaildomain', 'P_emaildomain__C2', \n",
    "                'card2__dist1', 'card1__card5', 'card2__id_20', 'card5__P_emaildomain', 'addr1__card1']:\n",
    "\n",
    "    f1, f2 = feature.split('__')\n",
    "    train[feature] = train[f1].astype(str) + '_' + train[f2].astype(str)\n",
    "    test[feature] = test[f1].astype(str) + '_' + test[f2].astype(str)\n",
    "\n",
    "    le = LabelEncoder()\n",
    "    le.fit(list(train[feature].astype(str).values) + list(test[feature].astype(str).values))\n",
    "    train[feature] = le.transform(list(train[feature].astype(str).values))\n",
    "    test[feature] = le.transform(list(test[feature].astype(str).values))\n",
    "    \n",
    "for feature in ['id_34', 'id_36']:\n",
    "    if feature in useful_features:\n",
    "        # Count encoded for both train and test\n",
    "        train[feature + '_count_full'] = train[feature].map(pd.concat([train[feature], test[feature]], ignore_index=True).value_counts(dropna=False))\n",
    "        test[feature + '_count_full'] = test[feature].map(pd.concat([train[feature], test[feature]], ignore_index=True).value_counts(dropna=False))\n",
    "        \n",
    "for feature in ['id_01', 'id_31', 'id_33', 'id_35', 'id_36']:\n",
    "    if feature in useful_features:\n",
    "        # Count encoded separately for train and test\n",
    "        train[feature + '_count_dist'] = train[feature].map(train[feature].value_counts(dropna=False))\n",
    "        test[feature + '_count_dist'] = test[feature].map(test[feature].value_counts(dropna=False))"
   ]
  },
  {
   "cell_type": "code",
   "execution_count": 10,
   "metadata": {},
   "outputs": [
    {
     "data": {
      "application/vnd.jupyter.widget-view+json": {
       "model_id": "ec27112a309e43f6a21b6830a6cb7498",
       "version_major": 2,
       "version_minor": 0
      },
      "text/plain": [
       "HBox(children=(IntProgress(value=0, max=301), HTML(value='')))"
      ]
     },
     "metadata": {},
     "output_type": "display_data"
    },
    {
     "name": "stdout",
     "output_type": "stream",
     "text": [
      "\n"
     ]
    }
   ],
   "source": [
    "for col in tqdm_notebook(train.columns):\n",
    "    if train[col].dtype == 'object':\n",
    "        le = LabelEncoder()\n",
    "        le.fit(list(train[col].astype(str).values) + list(test[col].astype(str).values))\n",
    "        train[col] = le.transform(list(train[col].astype(str).values))\n",
    "        test[col] = le.transform(list(test[col].astype(str).values))"
   ]
  },
  {
   "cell_type": "code",
   "execution_count": 11,
   "metadata": {},
   "outputs": [
    {
     "name": "stdout",
     "output_type": "stream",
     "text": [
      "(590540, 301) (506691, 300)\n"
     ]
    }
   ],
   "source": [
    "print(train.shape, test.shape)"
   ]
  },
  {
   "cell_type": "code",
   "execution_count": 12,
   "metadata": {},
   "outputs": [
    {
     "name": "stdout",
     "output_type": "stream",
     "text": [
      "card2 8933 8654 float64 [100.0, 100.0] [600.0, 600.0]\n",
      "card3 1565 3002 float64 [100.0, 100.0] [231.0, 232.0]\n",
      "card5 4259 4547 float64 [100.0, 100.0] [237.0, 237.0]\n",
      "addr1 65706 65609 float64 [100.0, 100.0] [540.0, 540.0]\n",
      "addr2 65706 65609 float64 [10.0, 10.0] [102.0, 102.0]\n",
      "dist1 352271 291217 float64 [0.0, 0.0] [10286.0, 8081.0]\n",
      "C1 0 3 float64 [0.0, 0.0] [4685.0, 2950.0]\n",
      "C2 0 3 float64 [0.0, 0.0] [5691.0, 3275.0]\n",
      "C4 0 3 float64 [0.0, 0.0] [2253.0, 1601.0]\n",
      "C5 0 3 float64 [0.0, 0.0] [349.0, 376.0]\n",
      "C6 0 3 float64 [0.0, 0.0] [2253.0, 1601.0]\n",
      "C7 0 3 float64 [0.0, 0.0] [2255.0, 1621.0]\n",
      "C8 0 3 float64 [0.0, 0.0] [3331.0, 1005.0]\n",
      "C9 0 3 float64 [0.0, 0.0] [210.0, 572.0]\n",
      "C10 0 3 float64 [0.0, 0.0] [3257.0, 881.0]\n",
      "C11 0 3 float64 [0.0, 0.0] [3188.0, 2234.0]\n",
      "C12 0 3 float64 [0.0, 0.0] [3188.0, 2234.0]\n",
      "C13 0 4748 float64 [0.0, 0.0] [2918.0, 1562.0]\n",
      "C14 0 3 float64 [0.0, 0.0] [1429.0, 797.0]\n",
      "D1 1269 6031 float64 [0.0, 0.0] [640.0, 641.0]\n",
      "D2 280797 234769 float64 [0.0, 0.0] [640.0, 641.0]\n",
      "D3 262878 203142 float64 [0.0, 0.0] [819.0, 1076.0]\n",
      "D4 168922 76851 float64 [-122.0, 0.0] [869.0, 1091.0]\n",
      "D5 309841 224375 float64 [0.0, 0.0] [819.0, 1088.0]\n",
      "D6 517353 381908 float64 [-83.0, 0.0] [873.0, 1091.0]\n",
      "D8 515614 432353 float64 [0.0, 0.0] [1707.7916259765625, 2029.5833740234373]\n",
      "D9 515614 432353 float64 [0.0, 0.0] [0.9583330154418944, 0.9583330154418944]\n",
      "D10 76022 12545 float64 [0.0, 0.0] [876.0, 1091.0]\n",
      "D11 279287 176518 float64 [-53.0, 0.0] [670.0, 883.0]\n",
      "D12 525823 437437 float64 [-83.0, 0.0] [648.0, 879.0]\n",
      "D13 528588 383307 float64 [0.0, 0.0] [847.0, 1066.0]\n",
      "D14 528353 391497 float64 [-193.0, 0.0] [878.0, 1085.0]\n",
      "D15 89113 12069 float64 [-83.0, 0.0] [879.0, 1091.0]\n",
      "V3 279287 176518 float64 [0.0, 0.0] [9.0, 11.0]\n",
      "V4 279287 176518 float64 [0.0, 0.0] [6.0, 10.0]\n",
      "V5 279287 176518 float64 [0.0, 0.0] [6.0, 10.0]\n",
      "V6 279287 176518 float64 [0.0, 0.0] [9.0, 13.0]\n",
      "V7 279287 176518 float64 [0.0, 0.0] [9.0, 13.0]\n",
      "V8 279287 176518 float64 [0.0, 0.0] [8.0, 11.0]\n",
      "V9 279287 176518 float64 [0.0, 0.0] [8.0, 11.0]\n",
      "V10 279287 176518 float64 [0.0, 0.0] [4.0, 5.0]\n",
      "V11 279287 176518 float64 [0.0, 0.0] [5.0, 7.0]\n",
      "V12 76073 12589 float64 [0.0, 0.0] [3.0, 4.0]\n",
      "V13 76073 12589 float64 [0.0, 0.0] [6.0, 6.0]\n",
      "V17 76073 12589 float64 [0.0, 0.0] [15.0, 10.0]\n",
      "V19 76073 12589 float64 [0.0, 0.0] [7.0, 13.0]\n",
      "V20 76073 12589 float64 [0.0, 0.0] [15.0, 25.0]\n",
      "V29 76073 12589 float64 [0.0, 0.0] [5.0, 4.0]\n",
      "V30 76073 12589 float64 [0.0, 0.0] [9.0, 7.0]\n",
      "V33 76073 12589 float64 [0.0, 0.0] [7.0, 13.0]\n",
      "V34 76073 12589 float64 [0.0, 0.0] [13.0, 25.0]\n",
      "V35 168969 76854 float64 [0.0, 0.0] [3.0, 4.0]\n",
      "V36 168969 76854 float64 [0.0, 0.0] [5.0, 6.0]\n",
      "V37 168969 76854 float64 [0.0, 0.0] [54.0, 49.0]\n",
      "V38 168969 76854 float64 [0.0, 0.0] [54.0, 52.0]\n",
      "V40 168969 76854 float64 [0.0, 0.0] [24.0, 31.0]\n",
      "V44 168969 76854 float64 [0.0, 0.0] [48.0, 47.0]\n",
      "V45 168969 76854 float64 [0.0, 0.0] [48.0, 69.0]\n",
      "V46 168969 76854 float64 [0.0, 0.0] [6.0, 8.0]\n",
      "V47 168969 76854 float64 [0.0, 0.0] [12.0, 11.0]\n",
      "V48 168969 76854 float64 [0.0, 0.0] [5.0, 4.0]\n",
      "V49 168969 76854 float64 [0.0, 0.0] [5.0, 7.0]\n",
      "V51 168969 76854 float64 [0.0, 0.0] [6.0, 8.0]\n",
      "V52 168969 76854 float64 [0.0, 0.0] [12.0, 10.0]\n",
      "V53 77096 12899 float64 [0.0, 0.0] [5.0, 5.0]\n",
      "V54 77096 12899 float64 [0.0, 0.0] [6.0, 7.0]\n",
      "V56 77096 12899 float64 [0.0, 0.0] [51.0, 51.0]\n",
      "V58 77096 12899 float64 [0.0, 0.0] [10.0, 10.0]\n",
      "V59 77096 12899 float64 [0.0, 0.0] [16.0, 12.0]\n",
      "V60 77096 12899 float64 [0.0, 0.0] [16.0, 17.0]\n",
      "V61 77096 12899 float64 [0.0, 0.0] [6.0, 6.0]\n",
      "V62 77096 12899 float64 [0.0, 0.0] [10.0, 10.0]\n",
      "V63 77096 12899 float64 [0.0, 0.0] [7.0, 8.0]\n",
      "V64 77096 12899 float64 [0.0, 0.0] [7.0, 10.0]\n",
      "V69 77096 12899 float64 [0.0, 0.0] [5.0, 4.0]\n",
      "V70 77096 12899 float64 [0.0, 0.0] [6.0, 8.0]\n",
      "V71 77096 12899 float64 [0.0, 0.0] [6.0, 6.0]\n",
      "V72 77096 12899 float64 [0.0, 0.0] [10.0, 10.0]\n",
      "V73 77096 12899 float64 [0.0, 0.0] [7.0, 8.0]\n",
      "V74 77096 12899 float64 [0.0, 0.0] [8.0, 10.0]\n",
      "V75 89164 12081 float64 [0.0, 0.0] [4.0, 5.0]\n",
      "V76 89164 12081 float64 [0.0, 0.0] [6.0, 7.0]\n",
      "V78 89164 12081 float64 [0.0, 0.0] [31.0, 80.0]\n",
      "V80 89164 12081 float64 [0.0, 0.0] [19.0, 18.0]\n",
      "V81 89164 12081 float64 [0.0, 0.0] [19.0, 18.0]\n",
      "V82 89164 12081 float64 [0.0, 0.0] [7.0, 5.0]\n",
      "V83 89164 12081 float64 [0.0, 0.0] [7.0, 7.0]\n",
      "V84 89164 12081 float64 [0.0, 0.0] [7.0, 10.0]\n",
      "V85 89164 12081 float64 [0.0, 0.0] [7.0, 10.0]\n",
      "V87 89164 12081 float64 [0.0, 0.0] [30.0, 80.0]\n",
      "V90 89164 12081 float64 [0.0, 0.0] [5.0, 4.0]\n",
      "V91 89164 12081 float64 [0.0, 0.0] [6.0, 8.0]\n",
      "V92 89164 12081 float64 [0.0, 0.0] [7.0, 6.0]\n",
      "V93 89164 12081 float64 [0.0, 0.0] [7.0, 7.0]\n",
      "V94 89164 12081 float64 [0.0, 0.0] [2.0, 2.0]\n",
      "V95 314 0 float64 [0.0, 0.0] [880.0, 60.0]\n",
      "V96 314 0 float64 [0.0, 0.0] [1410.0, 103.0]\n",
      "V97 314 0 float64 [0.0, 0.0] [976.0, 82.0]\n",
      "V99 314 0 float64 [0.0, 0.0] [88.0, 62.0]\n",
      "V100 314 0 float64 [0.0, 0.0] [28.0, 30.0]\n",
      "V126 314 0 float64 [0.0, 0.0] [160000.0, 519038.5]\n",
      "V127 314 0 float64 [0.0, 0.0] [160000.0, 544500.0]\n",
      "V128 314 0 float64 [0.0, 0.0] [160000.0, 519038.5]\n",
      "V130 314 0 float64 [0.0, 0.0] [55125.0, 167200.0]\n",
      "V131 314 0 float64 [0.0, 0.0] [55125.0, 167200.0]\n",
      "V138 508595 430906 float64 [0.0, 0.0] [22.0, 20.0]\n",
      "V139 508595 430906 float64 [0.0, 0.0] [33.0, 28.0]\n",
      "V140 508595 430906 float64 [0.0, 0.0] [33.0, 59.0]\n",
      "V143 508589 430636 float64 [0.0, 0.0] [869.0, 56.0]\n",
      "V145 508589 430636 float64 [0.0, 0.0] [297.0, 279.0]\n",
      "V146 508595 430906 float64 [0.0, 0.0] [24.0, 12.0]\n",
      "V147 508595 430906 float64 [0.0, 0.0] [26.0, 22.0]\n",
      "V149 508595 430906 float64 [0.0, 0.0] [20.0, 11.0]\n",
      "V150 508589 430636 float64 [1.0, 1.0] [3389.0, 2277.0]\n",
      "V151 508589 430636 float64 [1.0, 1.0] [57.0, 58.0]\n",
      "V152 508589 430636 float64 [1.0, 1.0] [69.0, 67.0]\n",
      "V154 508595 430906 float64 [0.0, 0.0] [18.0, 9.0]\n",
      "V156 508595 430906 float64 [0.0, 0.0] [24.0, 11.0]\n",
      "V158 508595 430906 float64 [0.0, 0.0] [24.0, 13.0]\n",
      "V159 508589 430636 float64 [0.0, 0.0] [55125.0, 284129.8125]\n",
      "V160 508589 430636 float64 [0.0, 0.0] [641511.4375, 3867868.5]\n",
      "V161 508595 430906 float64 [0.0, 0.0] [3300.0, 2000.0]\n",
      "V162 508595 430906 float64 [0.0, 0.0] [3300.0, 4000.0]\n",
      "V163 508595 430906 float64 [0.0, 0.0] [3300.0, 4000.0]\n",
      "V164 508589 430636 float64 [0.0, 0.0] [93736.0, 928882.0]\n",
      "V165 508589 430636 float64 [0.0, 0.0] [98476.0, 928882.0]\n",
      "V166 508589 430636 float64 [0.0, 0.0] [104060.0, 453750.0]\n",
      "V167 450909 369957 float64 [0.0, 0.0] [872.0, 238.0]\n",
      "V169 450721 370316 float64 [0.0, 0.0] [19.0, 39.0]\n",
      "V170 450721 370316 float64 [0.0, 0.0] [48.0, 63.0]\n",
      "V171 450721 370316 float64 [0.0, 0.0] [61.0, 68.0]\n",
      "V172 450909 369957 float64 [0.0, 0.0] [31.0, 37.0]\n",
      "V173 450909 369957 float64 [0.0, 0.0] [7.0, 9.0]\n",
      "V175 450721 370316 float64 [0.0, 0.0] [14.0, 22.0]\n",
      "V176 450909 369957 float64 [0.0, 1.0] [48.0, 239.0]\n",
      "V177 450909 369957 float64 [0.0, 0.0] [861.0, 238.0]\n",
      "V178 450909 369957 float64 [0.0, 0.0] [1235.0, 257.0]\n",
      "V180 450721 370316 float64 [0.0, 0.0] [83.0, 179.0]\n",
      "V182 450909 369957 float64 [0.0, 0.0] [83.0, 125.0]\n",
      "V184 450721 370316 float64 [0.0, 0.0] [16.0, 12.0]\n",
      "V187 450909 369957 float64 [0.0, 0.0] [218.0, 158.0]\n",
      "V188 450721 370316 float64 [0.0, 0.0] [30.0, 44.0]\n",
      "V189 450721 370316 float64 [0.0, 0.0] [30.0, 44.0]\n",
      "V195 450721 370316 float64 [0.0, 0.0] [16.0, 18.0]\n",
      "V197 450721 370316 float64 [0.0, 0.0] [14.0, 11.0]\n",
      "V200 450721 370316 float64 [0.0, 0.0] [45.0, 47.0]\n",
      "V201 450721 370316 float64 [0.0, 0.0] [55.0, 47.0]\n",
      "V202 450909 369957 float64 [0.0, 0.0] [104060.0, 1065496.5]\n",
      "V203 450909 369957 float64 [0.0, 0.0] [139777.0, 1065496.5]\n",
      "V204 450909 369957 float64 [0.0, 0.0] [104060.0, 1065496.5]\n",
      "V205 450909 369957 float64 [0.0, 0.0] [55125.0, 64800.0]\n",
      "V206 450909 369957 float64 [0.0, 0.0] [55125.0, 64800.0]\n",
      "V207 450909 369957 float64 [0.0, 0.0] [55125.0, 167200.0]\n",
      "V208 450721 370316 float64 [0.0, 0.0] [3300.0, 4000.0]\n",
      "V209 450721 370316 float64 [0.0, 0.0] [8050.0, 10000.0]\n",
      "V210 450721 370316 float64 [0.0, 0.0] [3300.0, 4000.0]\n",
      "V212 450909 369957 float64 [0.0, 0.0] [129006.0, 958320.0]\n",
      "V213 450909 369957 float64 [0.0, 0.0] [97628.0, 928882.0]\n",
      "V214 450909 369957 float64 [0.0, 0.0] [104060.0, 453750.0]\n",
      "V215 450909 369957 float64 [0.0, 0.0] [104060.0, 756250.0]\n",
      "V216 450909 369957 float64 [0.0, 0.0] [104060.0, 756250.0]\n",
      "V217 460110 379963 float64 [0.0, 0.0] [303.0, 238.0]\n",
      "V219 460110 379963 float64 [0.0, 0.0] [378.0, 290.0]\n",
      "V220 449124 369375 float64 [0.0, 0.0] [25.0, 47.0]\n",
      "V221 449124 369375 float64 [0.0, 0.0] [384.0, 140.0]\n",
      "V222 449124 369375 float64 [0.0, 0.0] [384.0, 291.0]\n",
      "V223 460110 379963 float64 [0.0, 0.0] [16.0, 11.0]\n",
      "V224 460110 379963 float64 [0.0, 0.0] [144.0, 91.0]\n",
      "V225 460110 379963 float64 [0.0, 0.0] [51.0, 58.0]\n",
      "V226 460110 379963 float64 [0.0, 0.0] [242.0, 870.0]\n",
      "V227 449124 369375 float64 [0.0, 0.0] [360.0, 131.0]\n",
      "V228 460110 379963 float64 [0.0, 1.0] [54.0, 239.0]\n",
      "V229 460110 379963 float64 [0.0, 1.0] [176.0, 262.0]\n",
      "V231 460110 379963 float64 [0.0, 0.0] [293.0, 238.0]\n",
      "V233 460110 379963 float64 [0.0, 0.0] [332.0, 290.0]\n"
     ]
    },
    {
     "name": "stdout",
     "output_type": "stream",
     "text": [
      "V234 449124 369375 float64 [0.0, 0.0] [121.0, 322.0]\n",
      "V238 449124 369375 float64 [0.0, 0.0] [23.0, 12.0]\n",
      "V239 449124 369375 float64 [0.0, 0.0] [23.0, 12.0]\n",
      "V242 460110 379963 float64 [0.0, 0.0] [20.0, 27.0]\n",
      "V243 460110 379963 float64 [0.0, 0.0] [57.0, 54.0]\n",
      "V244 460110 379963 float64 [0.0, 0.0] [22.0, 33.0]\n",
      "V245 449124 369375 float64 [0.0, 0.0] [262.0, 124.0]\n",
      "V246 460110 379963 float64 [0.0, 0.0] [45.0, 224.0]\n",
      "V247 460110 379963 float64 [0.0, 0.0] [18.0, 11.0]\n",
      "V249 460110 379963 float64 [0.0, 0.0] [22.0, 19.0]\n",
      "V251 449124 369375 float64 [0.0, 0.0] [18.0, 12.0]\n",
      "V253 460110 379963 float64 [0.0, 0.0] [163.0, 96.0]\n",
      "V256 449124 369375 float64 [0.0, 0.0] [87.0, 53.0]\n",
      "V257 460110 379963 float64 [0.0, 0.0] [48.0, 224.0]\n",
      "V258 460110 379963 float64 [0.0, 0.0] [66.0, 269.0]\n",
      "V259 449124 369375 float64 [0.0, 0.0] [285.0, 131.0]\n",
      "V261 460110 379963 float64 [0.0, 0.0] [49.0, 89.0]\n",
      "V262 460110 379963 float64 [0.0, 0.0] [20.0, 34.0]\n",
      "V263 460110 379963 float64 [0.0, 0.0] [153600.0, 1065496.5]\n",
      "V264 460110 379963 float64 [0.0, 0.0] [153600.0, 1065496.5]\n",
      "V265 460110 379963 float64 [0.0, 0.0] [153600.0, 1065496.5]\n",
      "V266 460110 379963 float64 [0.0, 0.0] [55125.0, 64800.0]\n",
      "V267 460110 379963 float64 [0.0, 0.0] [55125.0, 64800.0]\n",
      "V268 460110 379963 float64 [0.0, 0.0] [55125.0, 64800.0]\n",
      "V270 449124 369375 float64 [0.0, 0.0] [4000.0, 10791.5703125]\n",
      "V271 449124 369375 float64 [0.0, 0.0] [4000.0, 10791.5703125]\n",
      "V272 449124 369375 float64 [0.0, 0.0] [4000.0, 10791.5703125]\n",
      "V273 460110 379963 float64 [0.0, 0.0] [51200.0, 928882.0]\n",
      "V274 460110 379963 float64 [0.0, 0.0] [66000.0, 928882.0]\n",
      "V275 460110 379963 float64 [0.0, 0.0] [51200.0, 928882.0]\n",
      "V276 460110 379963 float64 [0.0, 0.0] [104060.0, 453750.0]\n",
      "V277 460110 379963 float64 [0.0, 0.0] [104060.0, 756250.0]\n",
      "V278 460110 379963 float64 [0.0, 0.0] [104060.0, 756250.0]\n",
      "V279 12 3 float64 [0.0, 0.0] [880.0, 86.0]\n",
      "V280 12 3 float64 [0.0, 0.0] [975.0, 108.0]\n",
      "V282 1269 6031 float64 [0.0, 0.0] [32.0, 63.0]\n",
      "V283 1269 6031 float64 [0.0, 0.0] [68.0, 68.0]\n",
      "V285 12 3 float64 [0.0, 0.0] [95.0, 90.0]\n",
      "V287 12 3 float64 [0.0, 0.0] [31.0, 31.0]\n",
      "V288 1269 6031 float64 [0.0, 0.0] [10.0, 6.0]\n",
      "V289 1269 6031 float64 [0.0, 0.0] [12.0, 11.0]\n",
      "V291 12 3 float64 [1.0, 1.0] [1055.0, 250.0]\n",
      "V292 12 3 float64 [1.0, 1.0] [323.0, 75.0]\n",
      "V294 12 3 float64 [0.0, 0.0] [1286.0, 246.0]\n",
      "V303 12 3 float64 [0.0, 0.0] [20.0, 17.0]\n",
      "V304 12 3 float64 [0.0, 0.0] [16.0, 17.0]\n",
      "V306 12 3 float64 [0.0, 0.0] [108800.0, 718740.0]\n",
      "V307 12 3 float64 [0.0, 0.0] [145765.0, 958320.0]\n",
      "V308 12 3 float64 [0.0, 0.0] [108800.0, 718740.0]\n",
      "V310 12 3 float64 [0.0, 0.0] [55125.0, 167200.0]\n",
      "V312 12 3 float64 [0.0, 0.0] [55125.0, 167200.0]\n",
      "V313 1269 6031 float64 [0.0, 0.0] [4817.47021484375, 4727.9599609375]\n",
      "V314 1269 6031 float64 [0.0, 0.0] [7519.8701171875, 7539.75]\n",
      "V315 1269 6031 float64 [0.0, 0.0] [4817.47021484375, 4727.9599609375]\n",
      "V317 12 3 float64 [0.0, 0.0] [134021.0, 958320.0]\n",
      "V322 508189 430260 float64 [0.0, 0.0] [880.0, 86.0]\n",
      "V323 508189 430260 float64 [0.0, 0.0] [1411.0, 128.0]\n",
      "V324 508189 430260 float64 [0.0, 0.0] [976.0, 108.0]\n",
      "V326 508189 430260 float64 [0.0, 0.0] [44.0, 44.0]\n",
      "V329 508189 430260 float64 [0.0, 0.0] [99.0, 125.0]\n",
      "V331 508189 430260 float64 [0.0, 0.0] [160000.0, 1040657.5]\n",
      "V332 508189 430260 float64 [0.0, 0.0] [160000.0, 1040657.5]\n",
      "V333 508189 430260 float64 [0.0, 0.0] [160000.0, 1040657.5]\n",
      "V335 508189 430260 float64 [0.0, 0.0] [55125.0, 64800.0]\n",
      "V336 508189 430260 float64 [0.0, 0.0] [55125.0, 64800.0]\n",
      "V338 508189 430260 float64 [0.0, 0.0] [104060.0, 612500.0]\n",
      "id_01 446307 364784 float64 [-100.0, -100.0] [0.0, 0.0]\n",
      "id_02 449668 369715 float64 [1.0, 2.0] [999595.0, 999869.0]\n",
      "id_03 524216 440210 float64 [-13.0, -12.0] [10.0, 11.0]\n",
      "id_05 453675 371941 float64 [-72.0, -81.0] [52.0, 52.0]\n",
      "id_06 453675 371941 float64 [-100.0, -100.0] [0.0, 0.0]\n",
      "id_09 515614 432353 float64 [-36.0, -32.0] [25.0, 16.0]\n",
      "id_11 449562 369913 float64 [90.0, 90.0] [100.0, 100.0]\n",
      "id_13 463220 376405 float64 [10.0, 11.0] [64.0, 63.0]\n",
      "id_14 510496 435334 float64 [-660.0, -720.0] [720.0, 720.0]\n",
      "id_17 451171 370725 float64 [100.0, 100.0] [229.0, 228.0]\n",
      "id_19 451222 370785 float64 [100.0, 100.0] [671.0, 670.0]\n",
      "id_20 451279 371058 float64 [100.0, 100.0] [661.0, 660.0]\n",
      "id_32 512954 436020 float64 [0.0, 8.0] [32.0, 48.0]\n",
      "TransactionID 0.9999912302247972\n",
      "TransactionDT 0.9999912420706194\n",
      "D4 0.6235022749118371\n",
      "D10 0.6286918534353937\n",
      "D15 0.656386527558444\n"
     ]
    },
    {
     "ename": "KeyboardInterrupt",
     "evalue": "",
     "output_type": "error",
     "traceback": [
      "\u001b[0;31m---------------------------------------------------------------------------\u001b[0m",
      "\u001b[0;31mKeyboardInterrupt\u001b[0m                         Traceback (most recent call last)",
      "\u001b[0;32m<ipython-input-12-ca347c7f6e6f>\u001b[0m in \u001b[0;36m<module>\u001b[0;34m\u001b[0m\n\u001b[1;32m      3\u001b[0m \u001b[0;32mfrom\u001b[0m \u001b[0mkaggleKID\u001b[0m\u001b[0;34m.\u001b[0m\u001b[0mpreprocessing\u001b[0m \u001b[0;32mimport\u001b[0m \u001b[0mcheck_dataframe\u001b[0m\u001b[0;34m\u001b[0m\u001b[0;34m\u001b[0m\u001b[0m\n\u001b[1;32m      4\u001b[0m \u001b[0;34m\u001b[0m\u001b[0m\n\u001b[0;32m----> 5\u001b[0;31m \u001b[0mdf_train\u001b[0m\u001b[0;34m,\u001b[0m \u001b[0mdf_test\u001b[0m\u001b[0;34m,\u001b[0m \u001b[0mdiff_type_cols\u001b[0m\u001b[0;34m,\u001b[0m \u001b[0mnot_numbic_cols\u001b[0m\u001b[0;34m,\u001b[0m \u001b[0mna_existed_cols\u001b[0m\u001b[0;34m,\u001b[0m \u001b[0mall_na_cols\u001b[0m\u001b[0;34m,\u001b[0m \u001b[0mtrn_tst_imbalance_col\u001b[0m \u001b[0;34m=\u001b[0m \u001b[0mcheck_dataframe\u001b[0m\u001b[0;34m(\u001b[0m\u001b[0mtrain\u001b[0m\u001b[0;34m,\u001b[0m \u001b[0mtest\u001b[0m\u001b[0;34m,\u001b[0m\u001b[0;34m[\u001b[0m\u001b[0;34m'TransactionID'\u001b[0m\u001b[0;34m,\u001b[0m\u001b[0;34m'TransactionDT'\u001b[0m\u001b[0;34m]\u001b[0m\u001b[0;34m)\u001b[0m\u001b[0;34m\u001b[0m\u001b[0;34m\u001b[0m\u001b[0m\n\u001b[0m",
      "\u001b[0;32m/workspace/IEEE-CIS_Fraud_Detection/kaggleKID/preprocessing.py\u001b[0m in \u001b[0;36mcheck_dataframe\u001b[0;34m(df_train, df_test, safe_cols, verbose)\u001b[0m\n\u001b[1;32m     95\u001b[0m     \u001b[0mtrn_tst_imbalance_col\u001b[0m \u001b[0;34m=\u001b[0m \u001b[0;34m{\u001b[0m\u001b[0;34m}\u001b[0m\u001b[0;34m\u001b[0m\u001b[0;34m\u001b[0m\u001b[0m\n\u001b[1;32m     96\u001b[0m     \u001b[0;32mfor\u001b[0m \u001b[0mcol\u001b[0m \u001b[0;32min\u001b[0m \u001b[0mdf_test\u001b[0m\u001b[0;34m.\u001b[0m\u001b[0mcolumns\u001b[0m\u001b[0;34m:\u001b[0m\u001b[0;34m\u001b[0m\u001b[0;34m\u001b[0m\u001b[0m\n\u001b[0;32m---> 97\u001b[0;31m         \u001b[0mcol_trn_tst_auc\u001b[0m \u001b[0;34m=\u001b[0m \u001b[0mcovariate_shift\u001b[0m\u001b[0;34m(\u001b[0m\u001b[0mdf_train\u001b[0m\u001b[0;34m,\u001b[0m \u001b[0mdf_test\u001b[0m\u001b[0;34m,\u001b[0m \u001b[0mcol\u001b[0m\u001b[0;34m,\u001b[0m \u001b[0;34m{\u001b[0m\u001b[0;34m}\u001b[0m\u001b[0;34m)\u001b[0m\u001b[0;34m\u001b[0m\u001b[0;34m\u001b[0m\u001b[0m\n\u001b[0m\u001b[1;32m     98\u001b[0m         \u001b[0;32mif\u001b[0m \u001b[0mnp\u001b[0m\u001b[0;34m.\u001b[0m\u001b[0mabs\u001b[0m\u001b[0;34m(\u001b[0m\u001b[0mcol_trn_tst_auc\u001b[0m\u001b[0;34m-\u001b[0m\u001b[0;36m.5\u001b[0m\u001b[0;34m)\u001b[0m \u001b[0;34m>\u001b[0m\u001b[0;36m.1\u001b[0m\u001b[0;34m:\u001b[0m\u001b[0;34m\u001b[0m\u001b[0;34m\u001b[0m\u001b[0m\n\u001b[1;32m     99\u001b[0m             \u001b[0mtrn_tst_imbalance_col\u001b[0m\u001b[0;34m[\u001b[0m\u001b[0mcol\u001b[0m\u001b[0;34m]\u001b[0m \u001b[0;34m=\u001b[0m \u001b[0mcol_trn_tst_auc\u001b[0m\u001b[0;34m\u001b[0m\u001b[0;34m\u001b[0m\u001b[0m\n",
      "\u001b[0;32m/workspace/IEEE-CIS_Fraud_Detection/kaggleKID/preprocessing.py\u001b[0m in \u001b[0;36mcovariate_shift\u001b[0;34m(df_train, df_test, feature, params)\u001b[0m\n\u001b[1;32m     23\u001b[0m \u001b[0;34m\u001b[0m\u001b[0m\n\u001b[1;32m     24\u001b[0m     \u001b[0mclf\u001b[0m \u001b[0;34m=\u001b[0m \u001b[0mlgb\u001b[0m\u001b[0;34m.\u001b[0m\u001b[0mLGBMClassifier\u001b[0m\u001b[0;34m(\u001b[0m\u001b[0;34m**\u001b[0m\u001b[0mparams\u001b[0m\u001b[0;34m)\u001b[0m\u001b[0;34m\u001b[0m\u001b[0;34m\u001b[0m\u001b[0m\n\u001b[0;32m---> 25\u001b[0;31m     \u001b[0mclf\u001b[0m\u001b[0;34m.\u001b[0m\u001b[0mfit\u001b[0m\u001b[0;34m(\u001b[0m\u001b[0mX_train\u001b[0m\u001b[0;34m.\u001b[0m\u001b[0mvalues\u001b[0m\u001b[0;34m.\u001b[0m\u001b[0mreshape\u001b[0m\u001b[0;34m(\u001b[0m\u001b[0;34m-\u001b[0m\u001b[0;36m1\u001b[0m\u001b[0;34m,\u001b[0m \u001b[0;36m1\u001b[0m\u001b[0;34m)\u001b[0m\u001b[0;34m,\u001b[0m \u001b[0my_train\u001b[0m\u001b[0;34m)\u001b[0m\u001b[0;34m\u001b[0m\u001b[0;34m\u001b[0m\u001b[0m\n\u001b[0m\u001b[1;32m     26\u001b[0m     \u001b[0mroc_auc\u001b[0m \u001b[0;34m=\u001b[0m  \u001b[0mroc_auc_score\u001b[0m\u001b[0;34m(\u001b[0m\u001b[0my_test\u001b[0m\u001b[0;34m,\u001b[0m \u001b[0mclf\u001b[0m\u001b[0;34m.\u001b[0m\u001b[0mpredict_proba\u001b[0m\u001b[0;34m(\u001b[0m\u001b[0mX_test\u001b[0m\u001b[0;34m.\u001b[0m\u001b[0mvalues\u001b[0m\u001b[0;34m.\u001b[0m\u001b[0mreshape\u001b[0m\u001b[0;34m(\u001b[0m\u001b[0;34m-\u001b[0m\u001b[0;36m1\u001b[0m\u001b[0;34m,\u001b[0m \u001b[0;36m1\u001b[0m\u001b[0;34m)\u001b[0m\u001b[0;34m)\u001b[0m\u001b[0;34m[\u001b[0m\u001b[0;34m:\u001b[0m\u001b[0;34m,\u001b[0m \u001b[0;36m1\u001b[0m\u001b[0;34m]\u001b[0m\u001b[0;34m)\u001b[0m\u001b[0;34m\u001b[0m\u001b[0;34m\u001b[0m\u001b[0m\n\u001b[1;32m     27\u001b[0m \u001b[0;34m\u001b[0m\u001b[0m\n",
      "\u001b[0;32m/usr/local/lib/python3.6/dist-packages/lightgbm/sklearn.py\u001b[0m in \u001b[0;36mfit\u001b[0;34m(self, X, y, sample_weight, init_score, eval_set, eval_names, eval_sample_weight, eval_class_weight, eval_init_score, eval_metric, early_stopping_rounds, verbose, feature_name, categorical_feature, callbacks)\u001b[0m\n\u001b[1;32m    742\u001b[0m                                         \u001b[0mverbose\u001b[0m\u001b[0;34m=\u001b[0m\u001b[0mverbose\u001b[0m\u001b[0;34m,\u001b[0m \u001b[0mfeature_name\u001b[0m\u001b[0;34m=\u001b[0m\u001b[0mfeature_name\u001b[0m\u001b[0;34m,\u001b[0m\u001b[0;34m\u001b[0m\u001b[0;34m\u001b[0m\u001b[0m\n\u001b[1;32m    743\u001b[0m                                         \u001b[0mcategorical_feature\u001b[0m\u001b[0;34m=\u001b[0m\u001b[0mcategorical_feature\u001b[0m\u001b[0;34m,\u001b[0m\u001b[0;34m\u001b[0m\u001b[0;34m\u001b[0m\u001b[0m\n\u001b[0;32m--> 744\u001b[0;31m                                         callbacks=callbacks)\n\u001b[0m\u001b[1;32m    745\u001b[0m         \u001b[0;32mreturn\u001b[0m \u001b[0mself\u001b[0m\u001b[0;34m\u001b[0m\u001b[0;34m\u001b[0m\u001b[0m\n\u001b[1;32m    746\u001b[0m \u001b[0;34m\u001b[0m\u001b[0m\n",
      "\u001b[0;32m/usr/local/lib/python3.6/dist-packages/lightgbm/sklearn.py\u001b[0m in \u001b[0;36mfit\u001b[0;34m(self, X, y, sample_weight, init_score, group, eval_set, eval_names, eval_sample_weight, eval_class_weight, eval_init_score, eval_group, eval_metric, early_stopping_rounds, verbose, feature_name, categorical_feature, callbacks)\u001b[0m\n\u001b[1;32m    542\u001b[0m                               \u001b[0mverbose_eval\u001b[0m\u001b[0;34m=\u001b[0m\u001b[0mverbose\u001b[0m\u001b[0;34m,\u001b[0m \u001b[0mfeature_name\u001b[0m\u001b[0;34m=\u001b[0m\u001b[0mfeature_name\u001b[0m\u001b[0;34m,\u001b[0m\u001b[0;34m\u001b[0m\u001b[0;34m\u001b[0m\u001b[0m\n\u001b[1;32m    543\u001b[0m                               \u001b[0mcategorical_feature\u001b[0m\u001b[0;34m=\u001b[0m\u001b[0mcategorical_feature\u001b[0m\u001b[0;34m,\u001b[0m\u001b[0;34m\u001b[0m\u001b[0;34m\u001b[0m\u001b[0m\n\u001b[0;32m--> 544\u001b[0;31m                               callbacks=callbacks)\n\u001b[0m\u001b[1;32m    545\u001b[0m \u001b[0;34m\u001b[0m\u001b[0m\n\u001b[1;32m    546\u001b[0m         \u001b[0;32mif\u001b[0m \u001b[0mevals_result\u001b[0m\u001b[0;34m:\u001b[0m\u001b[0;34m\u001b[0m\u001b[0;34m\u001b[0m\u001b[0m\n",
      "\u001b[0;32m/usr/local/lib/python3.6/dist-packages/lightgbm/engine.py\u001b[0m in \u001b[0;36mtrain\u001b[0;34m(params, train_set, num_boost_round, valid_sets, valid_names, fobj, feval, init_model, feature_name, categorical_feature, early_stopping_rounds, evals_result, verbose_eval, learning_rates, keep_training_booster, callbacks)\u001b[0m\n\u001b[1;32m    216\u001b[0m                                     evaluation_result_list=None))\n\u001b[1;32m    217\u001b[0m \u001b[0;34m\u001b[0m\u001b[0m\n\u001b[0;32m--> 218\u001b[0;31m         \u001b[0mbooster\u001b[0m\u001b[0;34m.\u001b[0m\u001b[0mupdate\u001b[0m\u001b[0;34m(\u001b[0m\u001b[0mfobj\u001b[0m\u001b[0;34m=\u001b[0m\u001b[0mfobj\u001b[0m\u001b[0;34m)\u001b[0m\u001b[0;34m\u001b[0m\u001b[0;34m\u001b[0m\u001b[0m\n\u001b[0m\u001b[1;32m    219\u001b[0m \u001b[0;34m\u001b[0m\u001b[0m\n\u001b[1;32m    220\u001b[0m         \u001b[0mevaluation_result_list\u001b[0m \u001b[0;34m=\u001b[0m \u001b[0;34m[\u001b[0m\u001b[0;34m]\u001b[0m\u001b[0;34m\u001b[0m\u001b[0;34m\u001b[0m\u001b[0m\n",
      "\u001b[0;32m/usr/local/lib/python3.6/dist-packages/lightgbm/basic.py\u001b[0m in \u001b[0;36mupdate\u001b[0;34m(self, train_set, fobj)\u001b[0m\n\u001b[1;32m   1800\u001b[0m             _safe_call(_LIB.LGBM_BoosterUpdateOneIter(\n\u001b[1;32m   1801\u001b[0m                 \u001b[0mself\u001b[0m\u001b[0;34m.\u001b[0m\u001b[0mhandle\u001b[0m\u001b[0;34m,\u001b[0m\u001b[0;34m\u001b[0m\u001b[0;34m\u001b[0m\u001b[0m\n\u001b[0;32m-> 1802\u001b[0;31m                 ctypes.byref(is_finished)))\n\u001b[0m\u001b[1;32m   1803\u001b[0m             \u001b[0mself\u001b[0m\u001b[0;34m.\u001b[0m\u001b[0m__is_predicted_cur_iter\u001b[0m \u001b[0;34m=\u001b[0m \u001b[0;34m[\u001b[0m\u001b[0;32mFalse\u001b[0m \u001b[0;32mfor\u001b[0m \u001b[0m_\u001b[0m \u001b[0;32min\u001b[0m \u001b[0mrange_\u001b[0m\u001b[0;34m(\u001b[0m\u001b[0mself\u001b[0m\u001b[0;34m.\u001b[0m\u001b[0m__num_dataset\u001b[0m\u001b[0;34m)\u001b[0m\u001b[0;34m]\u001b[0m\u001b[0;34m\u001b[0m\u001b[0;34m\u001b[0m\u001b[0m\n\u001b[1;32m   1804\u001b[0m             \u001b[0;32mreturn\u001b[0m \u001b[0mis_finished\u001b[0m\u001b[0;34m.\u001b[0m\u001b[0mvalue\u001b[0m \u001b[0;34m==\u001b[0m \u001b[0;36m1\u001b[0m\u001b[0;34m\u001b[0m\u001b[0;34m\u001b[0m\u001b[0m\n",
      "\u001b[0;31mKeyboardInterrupt\u001b[0m: "
     ]
    }
   ],
   "source": [
    "import sys\n",
    "sys.path.append(\"..\") # Adds higher directory to python modules path.\n",
    "from kaggleKID.preprocessing import check_dataframe\n",
    "\n",
    "df_train, df_test, diff_type_cols, not_numbic_cols, na_existed_cols, all_na_cols, trn_tst_imbalance_col = check_dataframe(train, test,['TransactionID','TransactionDT'])"
   ]
  },
  {
   "cell_type": "code",
   "execution_count": null,
   "metadata": {},
   "outputs": [],
   "source": [
    "print(df_train.shape, df_test.shape)\n",
    "df_train.columns.tolist()"
   ]
  },
  {
   "cell_type": "code",
   "execution_count": null,
   "metadata": {},
   "outputs": [],
   "source": [
    "for col in [col for col in diff_type_cols if col in df_test.columns]:\n",
    "    df_train[col] = df_train[col].astype(df_test[col].dtype)\n",
    "    print(col, df_train[col].dtype)"
   ]
  },
  {
   "cell_type": "code",
   "execution_count": null,
   "metadata": {},
   "outputs": [],
   "source": [
    "df_train.to_pickle(f'{folder_path}lgb-single-model-lb-0-9419_train.pkl', compression='gzip')\n",
    "df_test.to_pickle(f'{folder_path}lgb-single-model-lb-0-9419_test.pkl', compression='gzip')"
   ]
  },
  {
   "cell_type": "code",
   "execution_count": null,
   "metadata": {},
   "outputs": [],
   "source": [
    "X = train.sort_values('TransactionDT').drop(['isFraud', 'TransactionDT', 'TransactionID'], axis=1)\n",
    "y = train.sort_values('TransactionDT')['isFraud']\n",
    "test = test.sort_values('TransactionDT').drop(['TransactionDT', 'TransactionID'], axis=1)"
   ]
  },
  {
   "cell_type": "code",
   "execution_count": null,
   "metadata": {},
   "outputs": [],
   "source": [
    "X.shape, test.shape"
   ]
  },
  {
   "cell_type": "code",
   "execution_count": null,
   "metadata": {},
   "outputs": [],
   "source": []
  },
  {
   "cell_type": "code",
   "execution_count": null,
   "metadata": {},
   "outputs": [],
   "source": [
    "# train.to_pickle(f'{folder_path}lgb-single-model-lb-0-9419_train.pkl', compression='gzip')\n",
    "# test.to_pickle(f'{folder_path}lgb-single-model-lb-0-9419_test.pkl', compression='gzip')"
   ]
  },
  {
   "cell_type": "code",
   "execution_count": null,
   "metadata": {},
   "outputs": [],
   "source": [
    "params = {'num_leaves': 491,\n",
    "          'min_child_weight': 0.03454472573214212,\n",
    "          'feature_fraction': 0.3797454081646243,\n",
    "          'bagging_fraction': 0.4181193142567742,\n",
    "          'min_data_in_leaf': 106,\n",
    "          'objective': 'binary',\n",
    "          'max_depth': -1,\n",
    "          'learning_rate': 0.006883242363721497,\n",
    "          \"boosting_type\": \"gbdt\",\n",
    "          \"bagging_seed\": 11,\n",
    "          \"metric\": 'auc',\n",
    "          \"verbosity\": -1,\n",
    "          'reg_alpha': 0.3899927210061127,\n",
    "          'reg_lambda': 0.6485237330340494,\n",
    "          'random_state': 47\n",
    "         }"
   ]
  },
  {
   "cell_type": "code",
   "execution_count": 14,
   "metadata": {},
   "outputs": [
    {
     "name": "stdout",
     "output_type": "stream",
     "text": [
      "Training on fold 1\n",
      "Training until validation scores don't improve for 500 rounds.\n"
     ]
    },
    {
     "ename": "KeyboardInterrupt",
     "evalue": "",
     "output_type": "error",
     "traceback": [
      "\u001b[0;31m---------------------------------------------------------------------------\u001b[0m",
      "\u001b[0;31mKeyboardInterrupt\u001b[0m                         Traceback (most recent call last)",
      "\u001b[0;32m<ipython-input-14-9e31bbac3c4c>\u001b[0m in \u001b[0;36m<module>\u001b[0;34m\u001b[0m\n\u001b[1;32m     12\u001b[0m     \u001b[0mtrn_data\u001b[0m \u001b[0;34m=\u001b[0m \u001b[0mlgb\u001b[0m\u001b[0;34m.\u001b[0m\u001b[0mDataset\u001b[0m\u001b[0;34m(\u001b[0m\u001b[0mX\u001b[0m\u001b[0;34m.\u001b[0m\u001b[0miloc\u001b[0m\u001b[0;34m[\u001b[0m\u001b[0mtrn_idx\u001b[0m\u001b[0;34m]\u001b[0m\u001b[0;34m,\u001b[0m \u001b[0mlabel\u001b[0m\u001b[0;34m=\u001b[0m\u001b[0my\u001b[0m\u001b[0;34m.\u001b[0m\u001b[0miloc\u001b[0m\u001b[0;34m[\u001b[0m\u001b[0mtrn_idx\u001b[0m\u001b[0;34m]\u001b[0m\u001b[0;34m)\u001b[0m\u001b[0;34m\u001b[0m\u001b[0;34m\u001b[0m\u001b[0m\n\u001b[1;32m     13\u001b[0m     \u001b[0mval_data\u001b[0m \u001b[0;34m=\u001b[0m \u001b[0mlgb\u001b[0m\u001b[0;34m.\u001b[0m\u001b[0mDataset\u001b[0m\u001b[0;34m(\u001b[0m\u001b[0mX\u001b[0m\u001b[0;34m.\u001b[0m\u001b[0miloc\u001b[0m\u001b[0;34m[\u001b[0m\u001b[0mtest_idx\u001b[0m\u001b[0;34m]\u001b[0m\u001b[0;34m,\u001b[0m \u001b[0mlabel\u001b[0m\u001b[0;34m=\u001b[0m\u001b[0my\u001b[0m\u001b[0;34m.\u001b[0m\u001b[0miloc\u001b[0m\u001b[0;34m[\u001b[0m\u001b[0mtest_idx\u001b[0m\u001b[0;34m]\u001b[0m\u001b[0;34m)\u001b[0m\u001b[0;34m\u001b[0m\u001b[0;34m\u001b[0m\u001b[0m\n\u001b[0;32m---> 14\u001b[0;31m     \u001b[0mclf\u001b[0m \u001b[0;34m=\u001b[0m \u001b[0mlgb\u001b[0m\u001b[0;34m.\u001b[0m\u001b[0mtrain\u001b[0m\u001b[0;34m(\u001b[0m\u001b[0mparams\u001b[0m\u001b[0;34m,\u001b[0m \u001b[0mtrn_data\u001b[0m\u001b[0;34m,\u001b[0m \u001b[0;36m10000\u001b[0m\u001b[0;34m,\u001b[0m \u001b[0mvalid_sets\u001b[0m \u001b[0;34m=\u001b[0m \u001b[0;34m[\u001b[0m\u001b[0mtrn_data\u001b[0m\u001b[0;34m,\u001b[0m \u001b[0mval_data\u001b[0m\u001b[0;34m]\u001b[0m\u001b[0;34m,\u001b[0m \u001b[0mverbose_eval\u001b[0m\u001b[0;34m=\u001b[0m\u001b[0;36m1000\u001b[0m\u001b[0;34m,\u001b[0m \u001b[0mearly_stopping_rounds\u001b[0m\u001b[0;34m=\u001b[0m\u001b[0;36m500\u001b[0m\u001b[0;34m)\u001b[0m\u001b[0;34m\u001b[0m\u001b[0;34m\u001b[0m\u001b[0m\n\u001b[0m\u001b[1;32m     15\u001b[0m \u001b[0;34m\u001b[0m\u001b[0m\n\u001b[1;32m     16\u001b[0m     \u001b[0mfeature_importances\u001b[0m\u001b[0;34m[\u001b[0m\u001b[0;34m'fold_{}'\u001b[0m\u001b[0;34m.\u001b[0m\u001b[0mformat\u001b[0m\u001b[0;34m(\u001b[0m\u001b[0mfold\u001b[0m \u001b[0;34m+\u001b[0m \u001b[0;36m1\u001b[0m\u001b[0;34m)\u001b[0m\u001b[0;34m]\u001b[0m \u001b[0;34m=\u001b[0m \u001b[0mclf\u001b[0m\u001b[0;34m.\u001b[0m\u001b[0mfeature_importance\u001b[0m\u001b[0;34m(\u001b[0m\u001b[0;34m)\u001b[0m\u001b[0;34m\u001b[0m\u001b[0;34m\u001b[0m\u001b[0m\n",
      "\u001b[0;32m/usr/local/lib/python3.6/dist-packages/lightgbm/engine.py\u001b[0m in \u001b[0;36mtrain\u001b[0;34m(params, train_set, num_boost_round, valid_sets, valid_names, fobj, feval, init_model, feature_name, categorical_feature, early_stopping_rounds, evals_result, verbose_eval, learning_rates, keep_training_booster, callbacks)\u001b[0m\n\u001b[1;32m    216\u001b[0m                                     evaluation_result_list=None))\n\u001b[1;32m    217\u001b[0m \u001b[0;34m\u001b[0m\u001b[0m\n\u001b[0;32m--> 218\u001b[0;31m         \u001b[0mbooster\u001b[0m\u001b[0;34m.\u001b[0m\u001b[0mupdate\u001b[0m\u001b[0;34m(\u001b[0m\u001b[0mfobj\u001b[0m\u001b[0;34m=\u001b[0m\u001b[0mfobj\u001b[0m\u001b[0;34m)\u001b[0m\u001b[0;34m\u001b[0m\u001b[0;34m\u001b[0m\u001b[0m\n\u001b[0m\u001b[1;32m    219\u001b[0m \u001b[0;34m\u001b[0m\u001b[0m\n\u001b[1;32m    220\u001b[0m         \u001b[0mevaluation_result_list\u001b[0m \u001b[0;34m=\u001b[0m \u001b[0;34m[\u001b[0m\u001b[0;34m]\u001b[0m\u001b[0;34m\u001b[0m\u001b[0;34m\u001b[0m\u001b[0m\n",
      "\u001b[0;32m/usr/local/lib/python3.6/dist-packages/lightgbm/basic.py\u001b[0m in \u001b[0;36mupdate\u001b[0;34m(self, train_set, fobj)\u001b[0m\n\u001b[1;32m   1800\u001b[0m             _safe_call(_LIB.LGBM_BoosterUpdateOneIter(\n\u001b[1;32m   1801\u001b[0m                 \u001b[0mself\u001b[0m\u001b[0;34m.\u001b[0m\u001b[0mhandle\u001b[0m\u001b[0;34m,\u001b[0m\u001b[0;34m\u001b[0m\u001b[0;34m\u001b[0m\u001b[0m\n\u001b[0;32m-> 1802\u001b[0;31m                 ctypes.byref(is_finished)))\n\u001b[0m\u001b[1;32m   1803\u001b[0m             \u001b[0mself\u001b[0m\u001b[0;34m.\u001b[0m\u001b[0m__is_predicted_cur_iter\u001b[0m \u001b[0;34m=\u001b[0m \u001b[0;34m[\u001b[0m\u001b[0;32mFalse\u001b[0m \u001b[0;32mfor\u001b[0m \u001b[0m_\u001b[0m \u001b[0;32min\u001b[0m \u001b[0mrange_\u001b[0m\u001b[0;34m(\u001b[0m\u001b[0mself\u001b[0m\u001b[0;34m.\u001b[0m\u001b[0m__num_dataset\u001b[0m\u001b[0;34m)\u001b[0m\u001b[0;34m]\u001b[0m\u001b[0;34m\u001b[0m\u001b[0;34m\u001b[0m\u001b[0m\n\u001b[1;32m   1804\u001b[0m             \u001b[0;32mreturn\u001b[0m \u001b[0mis_finished\u001b[0m\u001b[0;34m.\u001b[0m\u001b[0mvalue\u001b[0m \u001b[0;34m==\u001b[0m \u001b[0;36m1\u001b[0m\u001b[0;34m\u001b[0m\u001b[0;34m\u001b[0m\u001b[0m\n",
      "\u001b[0;31mKeyboardInterrupt\u001b[0m: "
     ]
    }
   ],
   "source": [
    "folds = TimeSeriesSplit(n_splits=5)\n",
    "\n",
    "aucs = list()\n",
    "feature_importances = pd.DataFrame()\n",
    "feature_importances['feature'] = X.columns\n",
    "\n",
    "training_start_time = time()\n",
    "for fold, (trn_idx, test_idx) in enumerate(folds.split(X, y)):\n",
    "    start_time = time()\n",
    "    print('Training on fold {}'.format(fold + 1))\n",
    "    \n",
    "    trn_data = lgb.Dataset(X.iloc[trn_idx], label=y.iloc[trn_idx])\n",
    "    val_data = lgb.Dataset(X.iloc[test_idx], label=y.iloc[test_idx])\n",
    "    clf = lgb.train(params, trn_data, 10000, valid_sets = [trn_data, val_data], verbose_eval=1000, early_stopping_rounds=500)\n",
    "    \n",
    "    feature_importances['fold_{}'.format(fold + 1)] = clf.feature_importance()\n",
    "    aucs.append(clf.best_score['valid_1']['auc'])\n",
    "    \n",
    "    print('Fold {} finished in {}'.format(fold + 1, str(datetime.timedelta(seconds=time() - start_time))))\n",
    "print('-' * 30)\n",
    "print('Training has finished.')\n",
    "print('Total training time is {}'.format(str(datetime.timedelta(seconds=time() - training_start_time))))\n",
    "print('Mean AUC:', np.mean(aucs))\n",
    "print('-' * 30)"
   ]
  },
  {
   "cell_type": "code",
   "execution_count": null,
   "metadata": {},
   "outputs": [],
   "source": [
    "feature_importances['average'] = feature_importances[['fold_{}'.format(fold + 1) for fold in range(folds.n_splits)]].mean(axis=1)\n",
    "feature_importances.to_csv('feature_importances.csv')\n",
    "\n",
    "plt.figure(figsize=(16, 16))\n",
    "sns.barplot(data=feature_importances.sort_values(by='average', ascending=False).head(50), x='average', y='feature');\n",
    "plt.title('50 TOP feature importance over {} folds average'.format(folds.n_splits));"
   ]
  },
  {
   "cell_type": "code",
   "execution_count": null,
   "metadata": {},
   "outputs": [],
   "source": []
  }
 ],
 "metadata": {
  "kernelspec": {
   "display_name": "Python 3",
   "language": "python",
   "name": "python3"
  },
  "language_info": {
   "codemirror_mode": {
    "name": "ipython",
    "version": 3
   },
   "file_extension": ".py",
   "mimetype": "text/x-python",
   "name": "python",
   "nbconvert_exporter": "python",
   "pygments_lexer": "ipython3",
   "version": "3.6.8"
  }
 },
 "nbformat": 4,
 "nbformat_minor": 2
}
